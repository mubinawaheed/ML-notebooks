{
 "cells": [
  {
   "cell_type": "markdown",
   "id": "035fdcd4",
   "metadata": {},
   "source": [
    "# LOADING DATA"
   ]
  },
  {
   "cell_type": "code",
   "execution_count": null,
   "id": "28c41d12",
   "metadata": {},
   "outputs": [],
   "source": [
    "from sklearn.datasets import load_iris\n",
    "import numpy as np\n",
    "import pandas as pd\n",
    "import matplotlib.pyplot as plt\n",
    "import seaborn as sns\n",
    "from sklearn.preprocessing import MinMaxScaler\n"
   ]
  },
  {
   "cell_type": "code",
   "execution_count": null,
   "id": "19470fc9",
   "metadata": {},
   "outputs": [],
   "source": [
    "dataset=load_iris()\n",
    "dataset.feature_names\n",
    "dataset.target_names\n",
    "\n",
    "print(type(dataset),dir(dataset),dataset.target,dataset.data)"
   ]
  },
  {
   "cell_type": "code",
   "execution_count": null,
   "id": "9b7e24e5",
   "metadata": {},
   "outputs": [],
   "source": [
    "print(np.shape(dataset.target))\n",
    "print(np.shape(dataset.data))"
   ]
  },
  {
   "cell_type": "code",
   "execution_count": null,
   "id": "32a47aa8",
   "metadata": {},
   "outputs": [],
   "source": [
    "data_iris=pd.DataFrame(columns=dataset.feature_names, data=dataset.data)\n"
   ]
  },
  {
   "cell_type": "markdown",
   "id": "a8a27c7a",
   "metadata": {},
   "source": [
    "## assumption: 0=setosa, 1=versicolor, 2=verginica"
   ]
  },
  {
   "cell_type": "code",
   "execution_count": null,
   "id": "59cdfeeb",
   "metadata": {},
   "outputs": [],
   "source": [
    "data_iris['Flower_Class']=dataset.target\n",
    "data_iris"
   ]
  },
  {
   "cell_type": "code",
   "execution_count": null,
   "id": "836c0df1",
   "metadata": {},
   "outputs": [],
   "source": [
    "data_iris.info()\n",
    "data_iris.describe()"
   ]
  },
  {
   "cell_type": "markdown",
   "id": "41edf735",
   "metadata": {},
   "source": [
    "## ploting histogram for features "
   ]
  },
  {
   "cell_type": "code",
   "execution_count": null,
   "id": "41aebf10",
   "metadata": {},
   "outputs": [],
   "source": [
    "def plot_hist(column_name, bins, color):\n",
    "    plt.figure(figsize=(6,4))\n",
    "    plt.hist(data_iris[column_name],bins=bins, color=color, ec='black')\n",
    "    plt.xlabel(column_name)\n",
    "    plt.ylabel('No. of flowers')\n",
    "    plt.show()"
   ]
  },
  {
   "cell_type": "code",
   "execution_count": null,
   "id": "b8a17021",
   "metadata": {},
   "outputs": [],
   "source": [
    "plot_hist('sepal length (cm)', 50, 'lightblue')\n",
    "plot_hist('sepal width (cm)', 40, 'pink')\n",
    "plot_hist('petal length (cm)', 50, 'yellow')\n",
    "plot_hist('petal width (cm)', 50, 'green')"
   ]
  },
  {
   "cell_type": "markdown",
   "id": "c213ccdb",
   "metadata": {},
   "source": [
    "## ploting histogram for target"
   ]
  },
  {
   "cell_type": "code",
   "execution_count": null,
   "id": "15351b0c",
   "metadata": {},
   "outputs": [],
   "source": [
    "plot_hist('Flower_Class',15,'red')\n",
    "print('Value Counts:')\n",
    "data_iris['Flower_Class'].value_counts()"
   ]
  },
  {
   "cell_type": "markdown",
   "id": "11765cac",
   "metadata": {},
   "source": [
    "## printing all correlations"
   ]
  },
  {
   "cell_type": "code",
   "execution_count": null,
   "id": "783e2a41",
   "metadata": {},
   "outputs": [],
   "source": [
    "cols=list(data_iris.columns)\n",
    "cols2=cols[::-1]\n",
    "corr=[]\n",
    "for i in range(len(cols)):\n",
    "    for j in range(len(cols2)):\n",
    "        if cols2[j]==cols[i] or ([cols2[j], cols[i]] in corr):\n",
    "            continue\n",
    "        corr.append([cols[i], cols2[j]])\n",
    "        print(f\" Correlation between {cols[i]} and {cols2[j]} is: {round(data_iris[cols[i]].corr(data_iris[cols2[j]]), 4)}\")\n",
    "\n",
    "#this can also be calculated using     \n",
    "data_iris.corr()"
   ]
  },
  {
   "cell_type": "markdown",
   "id": "b73092af",
   "metadata": {},
   "source": [
    "## Plotting Heat Maps for Detecting Multicollinearity"
   ]
  },
  {
   "cell_type": "code",
   "execution_count": null,
   "id": "e44b5546",
   "metadata": {},
   "outputs": [],
   "source": [
    "plt.figure(figsize=(10,8))\n",
    "sns.heatmap(data_iris.corr(),  annot=True, annot_kws={\"size\": 12})\n",
    "sns.set_style('white')\n",
    "plt.xticks(fontsize=10)\n",
    "plt.yticks(fontsize=10)\n",
    "plt.show()"
   ]
  },
  {
   "cell_type": "markdown",
   "id": "e1a07e26",
   "metadata": {},
   "source": [
    "## normalizing dataset\n"
   ]
  },
  {
   "cell_type": "code",
   "execution_count": null,
   "id": "31b56372",
   "metadata": {},
   "outputs": [],
   "source": [
    "norm=MinMaxScaler()\n",
    "for i in range(len(cols)):\n",
    "    data_iris[cols[i]]=pd.DataFrame(norm.fit_transform(data_iris[[cols[i]]]))\n",
    "data_iris"
   ]
  },
  {
   "cell_type": "code",
   "execution_count": null,
   "id": "b4f7cada",
   "metadata": {},
   "outputs": [],
   "source": [
    "data_iris['sepal length (cm)'].min(), data_iris['sepal length (cm)'].max()"
   ]
  },
  {
   "cell_type": "markdown",
   "id": "c5df47f0",
   "metadata": {},
   "source": [
    "## writing cleaned data to csv"
   ]
  },
  {
   "cell_type": "code",
   "execution_count": null,
   "id": "0635b3f4",
   "metadata": {},
   "outputs": [],
   "source": [
    "# data_iris.to_csv('Iris_Clean.csv')"
   ]
  },
  {
   "cell_type": "markdown",
   "id": "c6b70888",
   "metadata": {},
   "source": [
    "## pairplots"
   ]
  },
  {
   "cell_type": "code",
   "execution_count": null,
   "id": "f6afde32",
   "metadata": {},
   "outputs": [],
   "source": [
    "sns.pairplot(data_iris)\n",
    "plt.show()"
   ]
  },
  {
   "cell_type": "code",
   "execution_count": null,
   "id": "36f50337",
   "metadata": {},
   "outputs": [],
   "source": []
  }
 ],
 "metadata": {
  "kernelspec": {
   "display_name": "Python 3 (ipykernel)",
   "language": "python",
   "name": "python3"
  },
  "language_info": {
   "codemirror_mode": {
    "name": "ipython",
    "version": 3
   },
   "file_extension": ".py",
   "mimetype": "text/x-python",
   "name": "python",
   "nbconvert_exporter": "python",
   "pygments_lexer": "ipython3",
   "version": "3.10.0"
  }
 },
 "nbformat": 4,
 "nbformat_minor": 5
}
