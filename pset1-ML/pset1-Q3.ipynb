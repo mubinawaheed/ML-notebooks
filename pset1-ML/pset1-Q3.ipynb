{
 "cells": [
  {
   "cell_type": "markdown",
   "id": "08478d3c",
   "metadata": {},
   "source": [
    "# pset 1- question-3, Automobiles dataset ##"
   ]
  },
  {
   "cell_type": "code",
   "execution_count": null,
   "id": "4c466dbf",
   "metadata": {},
   "outputs": [],
   "source": [
    "import numpy as np\n",
    "import pandas as pd\n",
    "from sklearn.preprocessing import StandardScaler, MinMaxScaler\n"
   ]
  },
  {
   "cell_type": "code",
   "execution_count": null,
   "id": "facf2065",
   "metadata": {},
   "outputs": [],
   "source": [
    "data=pd.read_csv('D5_Automobile_Dataset.csv')\n",
    "data"
   ]
  },
  {
   "cell_type": "code",
   "execution_count": null,
   "id": "f6982a54",
   "metadata": {},
   "outputs": [],
   "source": [
    "data.info()"
   ]
  },
  {
   "cell_type": "code",
   "execution_count": null,
   "id": "5983d89f",
   "metadata": {},
   "outputs": [],
   "source": [
    "data['normalized_losses'].value_counts()"
   ]
  },
  {
   "cell_type": "markdown",
   "id": "9171f8ce",
   "metadata": {},
   "source": [
    "# # Replacing all NaNs with 0 in normalized_losses"
   ]
  },
  {
   "cell_type": "code",
   "execution_count": null,
   "id": "f4339d18",
   "metadata": {},
   "outputs": [],
   "source": [
    "y=pd.DataFrame(data[data['normalized_losses'].isna()])\n",
    "data=data.fillna(0)\n",
    "data"
   ]
  },
  {
   "cell_type": "code",
   "execution_count": null,
   "id": "83a25636",
   "metadata": {},
   "outputs": [],
   "source": [
    "# data['make'].value_counts()\n",
    "y=pd.get_dummies(data.make, prefix='make')\n",
    "cols=list(y.columns)\n",
    "for i in range(len(cols)):\n",
    "    data[cols[i]]=y[cols[i]]\n",
    "data.head()"
   ]
  },
  {
   "cell_type": "code",
   "execution_count": null,
   "id": "459bc7fa",
   "metadata": {},
   "outputs": [],
   "source": [
    "data.drop(['make'], axis=1, inplace=True)"
   ]
  },
  {
   "cell_type": "markdown",
   "id": "409edb9e",
   "metadata": {},
   "source": [
    "## defining general function for encoding categorical columns for remaining categorical columns ##\n",
    "\n"
   ]
  },
  {
   "cell_type": "code",
   "execution_count": null,
   "id": "6e1cfc0e",
   "metadata": {},
   "outputs": [],
   "source": [
    "def encode(column_name, prefix):\n",
    "    y=pd.get_dummies(data[column_name], prefix=prefix)\n",
    "    cols=list(y.columns)\n",
    "    for i in range(len(cols)):\n",
    "        data[cols[i]]=y[cols[i]]\n",
    "    return data"
   ]
  },
  {
   "cell_type": "code",
   "execution_count": null,
   "id": "12f01265",
   "metadata": {},
   "outputs": [],
   "source": [
    "encode('fuel_type','fuel')\n",
    "encode('engine_location', 'engine')\n",
    "encode('aspiration', 'aspire')\n",
    "encode('body_style', 'body')\n",
    "encode('drive_wheels', 'drive_wheels')\n",
    "encode('engine_type', 'engine_type')\n",
    "encode('fuel_system', 'fuel_system')"
   ]
  },
  {
   "cell_type": "code",
   "execution_count": null,
   "id": "fc5dccb6",
   "metadata": {},
   "outputs": [],
   "source": [
    "\n",
    "data.drop(['engine_location'], axis=1, inplace=True)\n",
    "data.drop(['body_style'], axis=1, inplace=True)\n",
    "data.drop(['drive_wheels'], axis=1, inplace=True)\n",
    "data.drop(['fuel_type'], axis=1, inplace=True)\n",
    "data.drop(['aspiration'], axis=1, inplace=True)\n",
    "data.drop(['engine_type'], axis=1, inplace=True)\n",
    "data.drop(['fuel_system'], axis=1, inplace=True)"
   ]
  },
  {
   "cell_type": "code",
   "execution_count": null,
   "id": "5afa6b90",
   "metadata": {},
   "outputs": [],
   "source": [
    "data['num_doors']=data['num_doors'].replace('four',4)\n",
    "data['num_doors']=data['num_doors'].replace('two',2)\n",
    "\n",
    "data['num_cylinders']=data['num_cylinders'].replace('four',4)\n",
    "data['num_cylinders']=data['num_cylinders'].replace('six',6)\n",
    "data['num_cylinders']=data['num_cylinders'].replace('twelve',12)\n",
    "data['num_cylinders']=data['num_cylinders'].replace('two',2)\n",
    "data['num_cylinders']=data['num_cylinders'].replace('five',5)\n",
    "data['num_cylinders']=data['num_cylinders'].replace('eight',8)\n",
    "data['num_cylinders']=data['num_cylinders'].replace('three',3)\n",
    "\n",
    "data['num_cylinders'].value_counts()"
   ]
  },
  {
   "cell_type": "markdown",
   "id": "bc32ec5f",
   "metadata": {},
   "source": [
    "# removing redundant columns"
   ]
  },
  {
   "cell_type": "code",
   "execution_count": null,
   "id": "4f460530",
   "metadata": {},
   "outputs": [],
   "source": [
    "data.drop(['fuel_gas'], axis=1, inplace=True)\n",
    "data.drop(['aspire_std'], axis=1, inplace=True)\n",
    "data.drop(['engine_rear'], axis=1, inplace=True)"
   ]
  },
  {
   "cell_type": "code",
   "execution_count": null,
   "id": "3a64cae6",
   "metadata": {},
   "outputs": [],
   "source": [
    "data.rename(columns={'fuel_diesel':'fuel_type'}, inplace=True)\n",
    "\n",
    "data.rename(columns={'engine_front':'engine_location'}, inplace=True)\n",
    "\n",
    "data.rename(columns={'aspire_turbo':'aspiration'}, inplace=True)\n"
   ]
  },
  {
   "cell_type": "code",
   "execution_count": null,
   "id": "a5efd292",
   "metadata": {},
   "outputs": [],
   "source": [
    "data"
   ]
  },
  {
   "cell_type": "code",
   "execution_count": null,
   "id": "859bda1b",
   "metadata": {},
   "outputs": [],
   "source": [
    "data.to_csv('D5_Automobile_Dataset_clean.csv')"
   ]
  },
  {
   "cell_type": "code",
   "execution_count": null,
   "id": "f20e45b9",
   "metadata": {},
   "outputs": [],
   "source": []
  }
 ],
 "metadata": {
  "kernelspec": {
   "display_name": "Python 3 (ipykernel)",
   "language": "python",
   "name": "python3"
  },
  "language_info": {
   "codemirror_mode": {
    "name": "ipython",
    "version": 3
   },
   "file_extension": ".py",
   "mimetype": "text/x-python",
   "name": "python",
   "nbconvert_exporter": "python",
   "pygments_lexer": "ipython3",
   "version": "3.10.0"
  }
 },
 "nbformat": 4,
 "nbformat_minor": 5
}
