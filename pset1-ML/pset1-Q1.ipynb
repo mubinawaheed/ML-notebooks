{
 "cells": [
  {
   "cell_type": "code",
   "execution_count": null,
   "id": "c7fe6818",
   "metadata": {},
   "outputs": [],
   "source": [
    "import numpy as np\n",
    "import pandas as pd\n",
    "from sklearn.preprocessing import StandardScaler, MinMaxScaler\n",
    "import matplotlib.pyplot as plt"
   ]
  },
  {
   "cell_type": "code",
   "execution_count": null,
   "id": "2bd7ba43",
   "metadata": {},
   "outputs": [],
   "source": [
    "\n",
    "data=pd.read_csv('D2_Grades_Dataset.csv')\n",
    "data"
   ]
  },
  {
   "cell_type": "code",
   "execution_count": null,
   "id": "c5c74a6a",
   "metadata": {},
   "outputs": [],
   "source": [
    "data.info()"
   ]
  },
  {
   "cell_type": "code",
   "execution_count": null,
   "id": "f34a6978",
   "metadata": {},
   "outputs": [],
   "source": [
    "data[data.isna().any(axis=1)]"
   ]
  },
  {
   "cell_type": "code",
   "execution_count": null,
   "id": "27132e71",
   "metadata": {},
   "outputs": [],
   "source": [
    "cols=list(data.columns)\n",
    "for i in range(1, len(cols)):\n",
    "     print(cols[i], data[cols[i]].value_counts())"
   ]
  },
  {
   "cell_type": "markdown",
   "id": "579b69b2",
   "metadata": {},
   "source": [
    "# # encoding categorical atts"
   ]
  },
  {
   "cell_type": "code",
   "execution_count": null,
   "id": "5d150736",
   "metadata": {},
   "outputs": [],
   "source": [
    "# print(data['CS-406'].value_counts())\n",
    "cols=list(data.columns)\n",
    "for i in range(1,len(cols)):\n",
    "    data[cols[i]]=data[cols[i]].replace(['A+','A','A-','B', 'B+','B-','C+','C','C-','D','D+','F','W','WU'],\n",
    "                                        [12,11,10,8,9,7,6,5,4,2,3,1,0,0])\n",
    "    "
   ]
  },
  {
   "cell_type": "code",
   "execution_count": null,
   "id": "7be9297e",
   "metadata": {},
   "outputs": [],
   "source": [
    "data"
   ]
  },
  {
   "cell_type": "code",
   "execution_count": null,
   "id": "ddf4c665",
   "metadata": {},
   "outputs": [],
   "source": [
    "data=data.fillna(0)\n",
    "data"
   ]
  },
  {
   "cell_type": "code",
   "execution_count": null,
   "id": "1b439aa8",
   "metadata": {},
   "outputs": [],
   "source": [
    "inputs=data.drop(['CGPA'], axis=1)\n",
    "inputs"
   ]
  },
  {
   "cell_type": "code",
   "execution_count": null,
   "id": "bd289e79",
   "metadata": {},
   "outputs": [],
   "source": [
    "target=data['CGPA']\n",
    "target"
   ]
  },
  {
   "cell_type": "code",
   "execution_count": null,
   "id": "765fa5a3",
   "metadata": {},
   "outputs": [],
   "source": [
    "# print(inputs)"
   ]
  },
  {
   "cell_type": "code",
   "execution_count": null,
   "id": "97bc9b0b",
   "metadata": {},
   "outputs": [],
   "source": []
  }
 ],
 "metadata": {
  "kernelspec": {
   "display_name": "Python 3 (ipykernel)",
   "language": "python",
   "name": "python3"
  },
  "language_info": {
   "codemirror_mode": {
    "name": "ipython",
    "version": 3
   },
   "file_extension": ".py",
   "mimetype": "text/x-python",
   "name": "python",
   "nbconvert_exporter": "python",
   "pygments_lexer": "ipython3",
   "version": "3.10.0"
  }
 },
 "nbformat": 4,
 "nbformat_minor": 5
}
