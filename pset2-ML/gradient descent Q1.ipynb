{
 "cells": [
  {
   "cell_type": "code",
   "execution_count": null,
   "id": "3d3abc0c",
   "metadata": {},
   "outputs": [],
   "source": [
    "import numpy as np\n",
    "import pandas as pd\n",
    "import matplotlib.pyplot as plt\n"
   ]
  },
  {
   "cell_type": "markdown",
   "id": "60c16ea8",
   "metadata": {},
   "source": [
    "# plotting f(x,y) = √x**2 + y**2"
   ]
  },
  {
   "cell_type": "code",
   "execution_count": null,
   "id": "ec5469c2",
   "metadata": {},
   "outputs": [],
   "source": [
    "def f(x,y):\n",
    "    return (x**2 + y**2)**0.5\n",
    "\n",
    "def pdfx(x,y):\n",
    "    return x/(x**2 + y**2)**0.5\n",
    "\n",
    "def pdfy(x,y):\n",
    "    return y/(x**2 + y**2)**0.5\n",
    "\n",
    "x=np.linspace(-1,1,100)\n",
    "y=np.linspace(-1,1,100)\n",
    "x,y=np.meshgrid(x,y)\n",
    "\n",
    "%matplotlib notebook\n",
    "fig=plt.figure(figsize=[10,8])\n",
    "ax=plt.axes(projection='3d')\n",
    "ax.set_xlabel('x', fontsize=14)\n",
    "ax.set_ylabel('y', fontsize=14)\n",
    "ax.set_zlabel('Cost - f(x,y)', fontsize=12)\n",
    "ax.plot_surface(x,y,f(x,y), alpha=0.4, cmap='summer')"
   ]
  },
  {
   "cell_type": "code",
   "execution_count": null,
   "id": "375b101e",
   "metadata": {},
   "outputs": [],
   "source": [
    "\n",
    "\n",
    "def gradient_descent(pdfx, pdfy,initial_x, initial_y, alpha, max_iter):\n",
    "    x_old=initial_x\n",
    "    y_old=initial_y\n",
    "    \n",
    "    x_list=[]\n",
    "    y_list=[]\n",
    "    for i in range(1,max_iter+1):\n",
    "        if  abs(alpha * pdfx(x_old, y_old))<=0.0001 or abs(alpha * pdfy(x_old, y_old))<=0.0001:\n",
    "            print(alpha * pdfy(x_old, y_old))\n",
    "            break\n",
    "        x_new = x_old - alpha * pdfx(x_old, y_old)\n",
    "        y_new = y_old - alpha * pdfy(x_old, y_old)\n",
    "        x_list.append(x_old)\n",
    "        y_list.append(y_old)\n",
    "        \n",
    "        x_old=x_new\n",
    "        y_old=y_new\n",
    "        \n",
    "    return x_old,y_old,x_list,i,y_list\n",
    "\n",
    "local_minx, local_miny, x_list, runs, y_list= gradient_descent(pdfx, pdfy, initial_x = 0.3, initial_y=0.75, alpha=0.1, max_iter=5000)\n",
    "    \n",
    "    "
   ]
  },
  {
   "cell_type": "code",
   "execution_count": null,
   "id": "e9a68177",
   "metadata": {},
   "outputs": [],
   "source": [
    "print('local minima x=', local_minx)\n",
    "print('local minima y=', local_miny)\n",
    "print('no of iterations=', runs)\n",
    "print('cost function at this point: ', f(local_minx, local_miny))\n",
    "print('slope at this point=', pdfx(local_minx, local_miny))\n",
    "# print(x_list, y_list)\n"
   ]
  },
  {
   "cell_type": "code",
   "execution_count": null,
   "id": "df9f5478",
   "metadata": {},
   "outputs": [],
   "source": [
    "%matplotlib notebook\n",
    "fig=plt.figure(figsize=[12,8])\n",
    "\n",
    "ax=plt.axes(projection='3d')\n",
    "ax.set_xlabel('x', fontsize=16)\n",
    "ax.set_ylabel('y', fontsize=16)\n",
    "ax.set_zlabel('Cost - f(x,y)', fontsize=16)\n",
    "ax.plot_surface(x,y,f(x,y), alpha=0.4, cmap='winter')\n",
    "x_list=np.array(x_list)\n",
    "y_list=np.array(y_list)\n",
    "ax.scatter(x_list,y_list,f(x_list,y_list), alpha=0.4, s=50, color='red')\n",
    "plt.show()"
   ]
  },
  {
   "cell_type": "markdown",
   "id": "c023fe41",
   "metadata": {},
   "source": [
    "# f(x, y, z) = x2 + y2 +z2"
   ]
  },
  {
   "cell_type": "code",
   "execution_count": null,
   "id": "8afd1196",
   "metadata": {},
   "outputs": [],
   "source": [
    "def px(x,y,z):\n",
    "    return 2*x\n",
    "def py(x, y, z):\n",
    "    return 2*y\n",
    "def pz(x, y, z):\n",
    "    return 2*z\n",
    "\n",
    "def function(x,y,z):\n",
    "    return x**2 + y**2 + z**2"
   ]
  },
  {
   "cell_type": "code",
   "execution_count": null,
   "id": "cdd4aec1",
   "metadata": {},
   "outputs": [],
   "source": [
    "def gradient_descent2(px, py,pz,initial_x, initial_y, initial_z, alpha, max_iter):\n",
    "    x_old=initial_x\n",
    "    y_old=initial_y\n",
    "    z_old=initial_z\n",
    "\n",
    "    \n",
    "    x_list=[]\n",
    "    y_list=[]\n",
    "    z_list=[]\n",
    "\n",
    "    for i in range(1,max_iter+1):\n",
    "        if  abs(alpha * px(x_old, y_old, z_old))<=0.0001 and abs(alpha * py(x_old, y_old, z_old))<=0.0001 and abs(alpha * pz(x_old, y_old, z_old))<=0.0001:\n",
    "            print(pz(x_old, y_old, z_old))\n",
    "            break\n",
    "        x_new = x_old - alpha * px(x_old, y_old, z_old)\n",
    "        y_new = y_old - alpha * py(x_old, y_old, z_old)\n",
    "        z_new = z_old - alpha * pz(x_old, y_old, z_old)\n",
    "\n",
    "        x_list.append(x_old)\n",
    "        y_list.append(y_old)\n",
    "        \n",
    "        x_old=x_new\n",
    "        y_old=y_new\n",
    "        z_old=z_new\n",
    "        \n",
    "    return x_old,y_old,z_old,x_list,i,y_list\n",
    "\n",
    "local_minx, local_miny, local_minz, x_list, i, y_list= gradient_descent2(px, py, pz, initial_x = 0.3, \n",
    "                                                initial_y=0.75, initial_z=0.2, alpha=0.02, max_iter=5000)\n",
    "    \n",
    "    "
   ]
  },
  {
   "cell_type": "code",
   "execution_count": null,
   "id": "d998caae",
   "metadata": {},
   "outputs": [],
   "source": [
    "print('local minima x=', local_minx)\n",
    "print('local minima y=', local_miny)\n",
    "print('local minima z=', local_minz)\n",
    "print('no of iterations=', i)\n",
    "print('cost function at this point: ', function(local_minx, local_miny, local_minz))\n",
    "print('slope at this point z=', pz(local_minx, local_miny, local_minz))\n",
    "print('slope at this point y=', py(local_minx, local_miny, local_minz))\n",
    "print('slope at this point x=', px(local_minx, local_miny, local_minz))"
   ]
  },
  {
   "cell_type": "code",
   "execution_count": null,
   "id": "bad32245",
   "metadata": {},
   "outputs": [],
   "source": []
  },
  {
   "cell_type": "code",
   "execution_count": null,
   "id": "38850238",
   "metadata": {},
   "outputs": [],
   "source": []
  },
  {
   "cell_type": "code",
   "execution_count": null,
   "id": "41d91c91",
   "metadata": {},
   "outputs": [],
   "source": []
  }
 ],
 "metadata": {
  "kernelspec": {
   "display_name": "Python 3 (ipykernel)",
   "language": "python",
   "name": "python3"
  },
  "language_info": {
   "codemirror_mode": {
    "name": "ipython",
    "version": 3
   },
   "file_extension": ".py",
   "mimetype": "text/x-python",
   "name": "python",
   "nbconvert_exporter": "python",
   "pygments_lexer": "ipython3",
   "version": "3.10.0"
  }
 },
 "nbformat": 4,
 "nbformat_minor": 5
}
