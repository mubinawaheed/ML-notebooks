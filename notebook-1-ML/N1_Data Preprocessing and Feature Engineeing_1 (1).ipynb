{
 "cells": [
  {
   "cell_type": "markdown",
   "metadata": {},
   "source": [
    "# DATA CLEANING EXERCISE"
   ]
  },
  {
   "cell_type": "markdown",
   "metadata": {},
   "source": [
    "# Imports"
   ]
  },
  {
   "cell_type": "code",
   "execution_count": 3,
   "metadata": {},
   "outputs": [],
   "source": [
    "import pandas as pd"
   ]
  },
  {
   "cell_type": "markdown",
   "metadata": {},
   "source": [
    "# Problem: The Movie Revenue Dataset"
   ]
  },
  {
   "cell_type": "markdown",
   "metadata": {},
   "source": [
    "## Dataset Description\n",
    "This dataset has been obtained from https://www.the-numbers.com/movie/budgets\n",
    "\n",
    "This data has already been saved in a csv file called 'Movie_Revenue_Dataset.csv' and provided with this notebook.\n",
    "\n",
    "The csv file contains 6 columns (A to F) as follows:\n",
    "- Column A: Rank or serial number of the movie as per the production budget. Movies are ranked in decreasing order of their respective production budgets.\n",
    "- Column B: Release date of the movie.\n",
    "- Column C: Title of the movie.\n",
    "- Column D: Production budget of the movie in dollars.\n",
    "- Column E: Domestic gross in dollars made by the movie.\n",
    "- Column F: Worldwide gross in dollars made by the movie.\n",
    "\n",
    "## Exploring the Dataset in Microsoft Excel\n",
    "Open the file in Microsoft Excel and try identifying problems with data.\n",
    "\n",
    "Observe the following:\n",
    "- There is a total of 6169 entries in the dataset.\n",
    "- Different columns have different datatypes. In Microsoft Excel, strings are right-aligned and numbers are left-aligned. Column B 'Release Date' is of 'date' type.\n",
    "- In 'Release date' some entries are missing (see rows 793 and 1270); 'Unknown' is written instead. These are missing attribute values. \n",
    "- Some values are 0 in Columns E and F. These movies could be the ones which were never released or may be the attribute values are missing.\n",
    "- The heading of some columns have gaps in between the two words. This could create problem when reading these heading in Python as Python variable names do not allow spaces.\n",
    "- The number given in columns D, E and F are comma-separated. This can create problem when reading these columns into Python as integers.\n"
   ]
  },
  {
   "cell_type": "markdown",
   "metadata": {},
   "source": [
    "## Exploring the Dataset in Python\n",
    "### Loading Data"
   ]
  },
  {
   "cell_type": "code",
   "execution_count": 6,
   "metadata": {},
   "outputs": [],
   "source": [
    "#Reading the file into a dataframe using pandas method 'read_csv'\n",
    "#data=pd.read_csv('D1_Movie_Revenue_Dataset.csv')\n",
    "#Displaying the read contents\n",
    "#data"
   ]
  },
  {
   "cell_type": "markdown",
   "metadata": {},
   "source": [
    "### Exploring Data"
   ]
  },
  {
   "cell_type": "code",
   "execution_count": null,
   "metadata": {},
   "outputs": [],
   "source": [
    "#Finding datatype of data\n",
    "type(data)\n",
    "#The data has been read as a dataframe"
   ]
  },
  {
   "cell_type": "code",
   "execution_count": null,
   "metadata": {},
   "outputs": [],
   "source": [
    "data.info()\n",
    "data.describe()\n",
    "#This information shows that each column has 6169 entries. \n",
    "#Non of the columns contain any 'null' value, however we kmow that there are some unwanted values ('unknown' and 0) in some columns.\n",
    "#Datatype of only first column is 'integer', and remaining are 'object' showing that these are read as strings."
   ]
  },
  {
   "cell_type": "markdown",
   "metadata": {},
   "source": [
    "## Cleaning the Dataset\n",
    "Suppose we want to use this data to predict the movie revenue.\n",
    "\n",
    "Movie revenue is indicated by the 'Domestic Gross' (column E) and 'World Gross' (column F) values.\n",
    "\n",
    "Let us select 'World Gross' as the terget.\n",
    "\n",
    "Now the only feature that actually seems to effect this revenue is 'Production Budget'.\n",
    "\n",
    "So our hypothesis is to predict the 'World Gross' value from the corresponding 'Production Budget' value.\n",
    "\n",
    "In Microsft Excel do the following:\n",
    "- Save the file as 'D1_Movie_revenue_Dataset_Clean.csv' (to save the original file from being altered).\n",
    "- Remove all other irrelevent columns, i.e. remove coulumns A, B, C, and E.\n",
    "- Change the titles of the remaining two columns to 'Production_Budget' and 'World_Gross' (remove spaces from names).\n",
    "- Since both the columns should contain numbers, remove the commas from the values. To do this, select all the numbers, right click->Format Cells->Numbers->select 'Numbers' and unclick 'Use 1000 Separator'.\n",
    "- Delete all rows where the data is missing, i.e. delete all the rows where 'World_Gross' is 0. To do this, sort the column on 'World_Gross'; all 0 entries will come on top; delete all these row. \n",
    "- How many rows did u delete? Is this number significant as compared to the total dataset size?\n",
    "\n",
    "All these steps can also been done through Python programming.\n",
    "\n",
    "Now keep this file for future use (will be used in upcoming notebooks)."
   ]
  },
  {
   "cell_type": "code",
   "execution_count": 5,
   "metadata": {},
   "outputs": [
    {
     "name": "stdout",
     "output_type": "stream",
     "text": [
      "<class 'pandas.core.frame.DataFrame'>\n",
      "RangeIndex: 5773 entries, 0 to 5772\n",
      "Data columns (total 2 columns):\n",
      " #   Column             Non-Null Count  Dtype \n",
      "---  ------             --------------  ----- \n",
      " 0   Production_Budget  5773 non-null   object\n",
      " 1   Worldwide_Gross    5773 non-null   object\n",
      "dtypes: object(2)\n",
      "memory usage: 90.3+ KB\n",
      "None\n",
      "       Production_Budget Worldwide_Gross\n",
      "count               5773            5773\n",
      "unique               504            5717\n",
      "top           20,000,000       8,000,000\n",
      "freq                 239               8\n"
     ]
    }
   ],
   "source": [
    "#lets rexplore the new clean file in python.\n",
    "#run the following two methods and observe the information these methods provide.\n",
    "clean_data=pd.read_csv('D1_Movie_Revenue_Dataset_Clean.csv')\n",
    "print(clean_data.info())\n",
    "print(clean_data.describe())"
   ]
  },
  {
   "cell_type": "code",
   "execution_count": null,
   "metadata": {},
   "outputs": [],
   "source": []
  }
 ],
 "metadata": {
  "kernelspec": {
   "display_name": "Python 3 (ipykernel)",
   "language": "python",
   "name": "python3"
  },
  "language_info": {
   "codemirror_mode": {
    "name": "ipython",
    "version": 3
   },
   "file_extension": ".py",
   "mimetype": "text/x-python",
   "name": "python",
   "nbconvert_exporter": "python",
   "pygments_lexer": "ipython3",
   "version": "3.10.0"
  }
 },
 "nbformat": 4,
 "nbformat_minor": 4
}
